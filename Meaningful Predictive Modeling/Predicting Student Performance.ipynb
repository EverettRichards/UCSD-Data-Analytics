{
 "cells": [
  {
   "cell_type": "markdown",
   "id": "c41b032f",
   "metadata": {},
   "source": [
    "# Predicting Student Performance in Portuguese Schools\n",
    "## This Notebook will investigate the correlation between various factors such as home life, parental education, academic absences, and alcohol consumption, and how they can be used to predict a student's grades. The dataset includes complete information from roughly 400 Portuguese students and all factors relevant to their education.\n",
    "## Data provided by Gabirel Pereira School and Mousinho da Silveira School in Portugal. Accessed via UC Irvine Machine Learning Repository. https://archive.ics.uci.edu/dataset/320/student+performance\n",
    "\n",
    "."
   ]
  },
  {
   "cell_type": "markdown",
   "id": "84530366",
   "metadata": {},
   "source": [
    "## Import all needed libraries"
   ]
  },
  {
   "cell_type": "code",
   "execution_count": 3,
   "id": "58a123bf",
   "metadata": {},
   "outputs": [],
   "source": [
    "import pandas as pd\n",
    "from sklearn.model_selection import train_test_split\n",
    "from sklearn.linear_model import LinearRegression as LogReg\n",
    "from sklearn.linear_model import Ridge\n",
    "from sklearn.metrics import accuracy_score, mean_squared_error, r2_score\n",
    "import matplotlib.pyplot as plt\n",
    "import numpy as np"
   ]
  },
  {
   "cell_type": "markdown",
   "id": "d128f8a2",
   "metadata": {},
   "source": [
    "## Open the CSV data using the \"pandas\" library.\n",
    "This will allow us to parse through the data later on.\n",
    "\n",
    "## Select which factors we want to look at.\n",
    "I chose to look at which school the student goes to, their gender/sex, their number of absences, and other information as outlined below.\n",
    "\n",
    "### Data Cleaning - I replaced all categorical/binary data with numbers, and all quantitative data with the \"int\" equivalent.\n",
    "### Since the UCI ML Repo specified that there are \"No\" missing values in this data, there is no need to account for missing or empty data. However, we will still remove any student with a G3 score of 0, because these are outliers that are likely the result of missed tests rather than actual data points."
   ]
  },
  {
   "cell_type": "code",
   "execution_count": 4,
   "id": "dc7f612c",
   "metadata": {},
   "outputs": [
    {
     "data": {
      "text/html": [
       "<div>\n",
       "<style scoped>\n",
       "    .dataframe tbody tr th:only-of-type {\n",
       "        vertical-align: middle;\n",
       "    }\n",
       "\n",
       "    .dataframe tbody tr th {\n",
       "        vertical-align: top;\n",
       "    }\n",
       "\n",
       "    .dataframe thead th {\n",
       "        text-align: right;\n",
       "    }\n",
       "</style>\n",
       "<table border=\"1\" class=\"dataframe\">\n",
       "  <thead>\n",
       "    <tr style=\"text-align: right;\">\n",
       "      <th></th>\n",
       "      <th>school</th>\n",
       "      <th>sex</th>\n",
       "      <th>absences</th>\n",
       "      <th>internet</th>\n",
       "      <th>schoolsup</th>\n",
       "      <th>Medu</th>\n",
       "      <th>Fedu</th>\n",
       "      <th>health</th>\n",
       "      <th>higher</th>\n",
       "      <th>activities</th>\n",
       "      <th>failures</th>\n",
       "      <th>G2</th>\n",
       "      <th>G1</th>\n",
       "      <th>Dalc</th>\n",
       "      <th>Walc</th>\n",
       "      <th>paid</th>\n",
       "      <th>studytime</th>\n",
       "      <th>Pstatus</th>\n",
       "    </tr>\n",
       "  </thead>\n",
       "  <tbody>\n",
       "    <tr>\n",
       "      <th>219</th>\n",
       "      <td>1</td>\n",
       "      <td>1</td>\n",
       "      <td>4</td>\n",
       "      <td>1</td>\n",
       "      <td>0</td>\n",
       "      <td>2</td>\n",
       "      <td>2</td>\n",
       "      <td>4</td>\n",
       "      <td>1</td>\n",
       "      <td>1</td>\n",
       "      <td>0</td>\n",
       "      <td>10</td>\n",
       "      <td>9</td>\n",
       "      <td>1</td>\n",
       "      <td>1</td>\n",
       "      <td>1</td>\n",
       "      <td>3</td>\n",
       "      <td>1</td>\n",
       "    </tr>\n",
       "    <tr>\n",
       "      <th>317</th>\n",
       "      <td>1</td>\n",
       "      <td>1</td>\n",
       "      <td>9</td>\n",
       "      <td>1</td>\n",
       "      <td>0</td>\n",
       "      <td>4</td>\n",
       "      <td>3</td>\n",
       "      <td>5</td>\n",
       "      <td>1</td>\n",
       "      <td>1</td>\n",
       "      <td>0</td>\n",
       "      <td>10</td>\n",
       "      <td>9</td>\n",
       "      <td>1</td>\n",
       "      <td>1</td>\n",
       "      <td>1</td>\n",
       "      <td>3</td>\n",
       "      <td>1</td>\n",
       "    </tr>\n",
       "    <tr>\n",
       "      <th>276</th>\n",
       "      <td>1</td>\n",
       "      <td>1</td>\n",
       "      <td>75</td>\n",
       "      <td>1</td>\n",
       "      <td>0</td>\n",
       "      <td>3</td>\n",
       "      <td>2</td>\n",
       "      <td>5</td>\n",
       "      <td>0</td>\n",
       "      <td>0</td>\n",
       "      <td>0</td>\n",
       "      <td>9</td>\n",
       "      <td>10</td>\n",
       "      <td>1</td>\n",
       "      <td>1</td>\n",
       "      <td>0</td>\n",
       "      <td>2</td>\n",
       "      <td>0</td>\n",
       "    </tr>\n",
       "    <tr>\n",
       "      <th>347</th>\n",
       "      <td>1</td>\n",
       "      <td>0</td>\n",
       "      <td>0</td>\n",
       "      <td>1</td>\n",
       "      <td>0</td>\n",
       "      <td>4</td>\n",
       "      <td>3</td>\n",
       "      <td>5</td>\n",
       "      <td>1</td>\n",
       "      <td>0</td>\n",
       "      <td>0</td>\n",
       "      <td>10</td>\n",
       "      <td>10</td>\n",
       "      <td>2</td>\n",
       "      <td>3</td>\n",
       "      <td>1</td>\n",
       "      <td>3</td>\n",
       "      <td>1</td>\n",
       "    </tr>\n",
       "    <tr>\n",
       "      <th>377</th>\n",
       "      <td>0</td>\n",
       "      <td>1</td>\n",
       "      <td>4</td>\n",
       "      <td>1</td>\n",
       "      <td>0</td>\n",
       "      <td>4</td>\n",
       "      <td>4</td>\n",
       "      <td>2</td>\n",
       "      <td>1</td>\n",
       "      <td>1</td>\n",
       "      <td>0</td>\n",
       "      <td>9</td>\n",
       "      <td>8</td>\n",
       "      <td>3</td>\n",
       "      <td>4</td>\n",
       "      <td>1</td>\n",
       "      <td>2</td>\n",
       "      <td>1</td>\n",
       "    </tr>\n",
       "    <tr>\n",
       "      <th>...</th>\n",
       "      <td>...</td>\n",
       "      <td>...</td>\n",
       "      <td>...</td>\n",
       "      <td>...</td>\n",
       "      <td>...</td>\n",
       "      <td>...</td>\n",
       "      <td>...</td>\n",
       "      <td>...</td>\n",
       "      <td>...</td>\n",
       "      <td>...</td>\n",
       "      <td>...</td>\n",
       "      <td>...</td>\n",
       "      <td>...</td>\n",
       "      <td>...</td>\n",
       "      <td>...</td>\n",
       "      <td>...</td>\n",
       "      <td>...</td>\n",
       "      <td>...</td>\n",
       "    </tr>\n",
       "    <tr>\n",
       "      <th>203</th>\n",
       "      <td>1</td>\n",
       "      <td>1</td>\n",
       "      <td>18</td>\n",
       "      <td>1</td>\n",
       "      <td>0</td>\n",
       "      <td>2</td>\n",
       "      <td>2</td>\n",
       "      <td>3</td>\n",
       "      <td>1</td>\n",
       "      <td>0</td>\n",
       "      <td>0</td>\n",
       "      <td>6</td>\n",
       "      <td>7</td>\n",
       "      <td>1</td>\n",
       "      <td>2</td>\n",
       "      <td>0</td>\n",
       "      <td>1</td>\n",
       "      <td>1</td>\n",
       "    </tr>\n",
       "    <tr>\n",
       "      <th>115</th>\n",
       "      <td>1</td>\n",
       "      <td>0</td>\n",
       "      <td>2</td>\n",
       "      <td>1</td>\n",
       "      <td>0</td>\n",
       "      <td>4</td>\n",
       "      <td>4</td>\n",
       "      <td>5</td>\n",
       "      <td>1</td>\n",
       "      <td>1</td>\n",
       "      <td>0</td>\n",
       "      <td>15</td>\n",
       "      <td>15</td>\n",
       "      <td>1</td>\n",
       "      <td>2</td>\n",
       "      <td>0</td>\n",
       "      <td>2</td>\n",
       "      <td>1</td>\n",
       "    </tr>\n",
       "    <tr>\n",
       "      <th>314</th>\n",
       "      <td>1</td>\n",
       "      <td>1</td>\n",
       "      <td>14</td>\n",
       "      <td>1</td>\n",
       "      <td>0</td>\n",
       "      <td>1</td>\n",
       "      <td>1</td>\n",
       "      <td>3</td>\n",
       "      <td>1</td>\n",
       "      <td>0</td>\n",
       "      <td>2</td>\n",
       "      <td>13</td>\n",
       "      <td>15</td>\n",
       "      <td>1</td>\n",
       "      <td>1</td>\n",
       "      <td>0</td>\n",
       "      <td>3</td>\n",
       "      <td>1</td>\n",
       "    </tr>\n",
       "    <tr>\n",
       "      <th>63</th>\n",
       "      <td>1</td>\n",
       "      <td>1</td>\n",
       "      <td>2</td>\n",
       "      <td>1</td>\n",
       "      <td>1</td>\n",
       "      <td>4</td>\n",
       "      <td>3</td>\n",
       "      <td>4</td>\n",
       "      <td>1</td>\n",
       "      <td>1</td>\n",
       "      <td>0</td>\n",
       "      <td>9</td>\n",
       "      <td>10</td>\n",
       "      <td>2</td>\n",
       "      <td>4</td>\n",
       "      <td>1</td>\n",
       "      <td>3</td>\n",
       "      <td>1</td>\n",
       "    </tr>\n",
       "    <tr>\n",
       "      <th>72</th>\n",
       "      <td>1</td>\n",
       "      <td>1</td>\n",
       "      <td>2</td>\n",
       "      <td>1</td>\n",
       "      <td>1</td>\n",
       "      <td>1</td>\n",
       "      <td>1</td>\n",
       "      <td>5</td>\n",
       "      <td>1</td>\n",
       "      <td>0</td>\n",
       "      <td>2</td>\n",
       "      <td>6</td>\n",
       "      <td>8</td>\n",
       "      <td>2</td>\n",
       "      <td>4</td>\n",
       "      <td>0</td>\n",
       "      <td>2</td>\n",
       "      <td>1</td>\n",
       "    </tr>\n",
       "  </tbody>\n",
       "</table>\n",
       "<p>357 rows × 18 columns</p>\n",
       "</div>"
      ],
      "text/plain": [
       "     school  sex  absences  internet  schoolsup  Medu  Fedu  health  higher  \\\n",
       "219       1    1         4         1          0     2     2       4       1   \n",
       "317       1    1         9         1          0     4     3       5       1   \n",
       "276       1    1        75         1          0     3     2       5       0   \n",
       "347       1    0         0         1          0     4     3       5       1   \n",
       "377       0    1         4         1          0     4     4       2       1   \n",
       "..      ...  ...       ...       ...        ...   ...   ...     ...     ...   \n",
       "203       1    1        18         1          0     2     2       3       1   \n",
       "115       1    0         2         1          0     4     4       5       1   \n",
       "314       1    1        14         1          0     1     1       3       1   \n",
       "63        1    1         2         1          1     4     3       4       1   \n",
       "72        1    1         2         1          1     1     1       5       1   \n",
       "\n",
       "     activities  failures  G2  G1  Dalc  Walc  paid  studytime  Pstatus  \n",
       "219           1         0  10   9     1     1     1          3        1  \n",
       "317           1         0  10   9     1     1     1          3        1  \n",
       "276           0         0   9  10     1     1     0          2        0  \n",
       "347           0         0  10  10     2     3     1          3        1  \n",
       "377           1         0   9   8     3     4     1          2        1  \n",
       "..          ...       ...  ..  ..   ...   ...   ...        ...      ...  \n",
       "203           0         0   6   7     1     2     0          1        1  \n",
       "115           1         0  15  15     1     2     0          2        1  \n",
       "314           0         2  13  15     1     1     0          3        1  \n",
       "63            1         0   9  10     2     4     1          3        1  \n",
       "72            0         2   6   8     2     4     0          2        1  \n",
       "\n",
       "[357 rows x 18 columns]"
      ]
     },
     "execution_count": 4,
     "metadata": {},
     "output_type": "execute_result"
    }
   ],
   "source": [
    "data = pd.read_csv(\"Documents/datasets/student+performance/student/student-mat.csv\",sep=\";\") # The CSV file was actually separated by semicolons (;), not commas (,)\n",
    "\n",
    "# Find zeroes and drop them.\n",
    "badList = []\n",
    "count=0\n",
    "for i in data[\"G3\"]:\n",
    "    if i == 0:\n",
    "        badList.append(count)\n",
    "    count += 1\n",
    "\n",
    "data = data.drop(badList)\n",
    "    \n",
    "data = data.sample(frac=1,random_state=420) # Randomize/shuffle the data.\n",
    "\n",
    "y = data[\"G3\"]\n",
    "X=data[[\"school\",\"sex\",\"absences\",\"internet\",\"schoolsup\",\"Medu\",\"Fedu\",\"health\",\"higher\",\"activities\",\"failures\",\"G2\",\"G1\",\"Dalc\",\"Walc\",\"paid\",\"studytime\",\"Pstatus\"]]\n",
    "\n",
    "X = X.replace({'GP':1,'MS':0,'F':1,'M':0,'U':1,'R':0,'A':0,'T':1,'yes':1,'no':0}) # GP/MS School, Female/Male, Urban/rural (address), Apart/Together (Pstatus), Yes/no for school support / internet\n",
    "\n",
    "for i in X:\n",
    "    X = X.astype({i:'int'})\n",
    "\n",
    "X"
   ]
  },
  {
   "cell_type": "markdown",
   "id": "d5192cf7",
   "metadata": {},
   "source": [
    "## Create a new, blank Ridge regression model that will allow us to modify it later on through the Alpha value\n",
    "Alpha 100 seems to be the best by experimentation."
   ]
  },
  {
   "cell_type": "code",
   "execution_count": 5,
   "id": "d7b476a9",
   "metadata": {},
   "outputs": [],
   "source": [
    "#model = LogReg()\n",
    "model = Ridge(alpha=100)"
   ]
  },
  {
   "cell_type": "markdown",
   "id": "7d49d555",
   "metadata": {},
   "source": [
    "## Define *testing / training / validation* lists for regression analysis. We will be predicting each student's \"G3\" (grade 3) based on various other factors such as family status, alcohol use, and free time. \n",
    "\n",
    "### This will allow us to set up our model, test it, and then validate it later on to account for over/underfitting."
   ]
  },
  {
   "cell_type": "code",
   "execution_count": 6,
   "id": "065aba9f",
   "metadata": {},
   "outputs": [],
   "source": [
    "X_train, X_test, y_train, y_test = train_test_split(X,y,test_size=0.2, random_state=60)\n",
    "\n",
    "X_train,X_val,y_train,y_val = train_test_split(X_train,y_train,test_size=0.25,random_state=60)"
   ]
  },
  {
   "cell_type": "markdown",
   "id": "39f9aab7",
   "metadata": {},
   "source": [
    "## Set up regression data"
   ]
  },
  {
   "cell_type": "code",
   "execution_count": 7,
   "id": "a5a6cc0d",
   "metadata": {},
   "outputs": [
    {
     "data": {
      "text/html": [
       "<style>#sk-container-id-1 {color: black;background-color: white;}#sk-container-id-1 pre{padding: 0;}#sk-container-id-1 div.sk-toggleable {background-color: white;}#sk-container-id-1 label.sk-toggleable__label {cursor: pointer;display: block;width: 100%;margin-bottom: 0;padding: 0.3em;box-sizing: border-box;text-align: center;}#sk-container-id-1 label.sk-toggleable__label-arrow:before {content: \"▸\";float: left;margin-right: 0.25em;color: #696969;}#sk-container-id-1 label.sk-toggleable__label-arrow:hover:before {color: black;}#sk-container-id-1 div.sk-estimator:hover label.sk-toggleable__label-arrow:before {color: black;}#sk-container-id-1 div.sk-toggleable__content {max-height: 0;max-width: 0;overflow: hidden;text-align: left;background-color: #f0f8ff;}#sk-container-id-1 div.sk-toggleable__content pre {margin: 0.2em;color: black;border-radius: 0.25em;background-color: #f0f8ff;}#sk-container-id-1 input.sk-toggleable__control:checked~div.sk-toggleable__content {max-height: 200px;max-width: 100%;overflow: auto;}#sk-container-id-1 input.sk-toggleable__control:checked~label.sk-toggleable__label-arrow:before {content: \"▾\";}#sk-container-id-1 div.sk-estimator input.sk-toggleable__control:checked~label.sk-toggleable__label {background-color: #d4ebff;}#sk-container-id-1 div.sk-label input.sk-toggleable__control:checked~label.sk-toggleable__label {background-color: #d4ebff;}#sk-container-id-1 input.sk-hidden--visually {border: 0;clip: rect(1px 1px 1px 1px);clip: rect(1px, 1px, 1px, 1px);height: 1px;margin: -1px;overflow: hidden;padding: 0;position: absolute;width: 1px;}#sk-container-id-1 div.sk-estimator {font-family: monospace;background-color: #f0f8ff;border: 1px dotted black;border-radius: 0.25em;box-sizing: border-box;margin-bottom: 0.5em;}#sk-container-id-1 div.sk-estimator:hover {background-color: #d4ebff;}#sk-container-id-1 div.sk-parallel-item::after {content: \"\";width: 100%;border-bottom: 1px solid gray;flex-grow: 1;}#sk-container-id-1 div.sk-label:hover label.sk-toggleable__label {background-color: #d4ebff;}#sk-container-id-1 div.sk-serial::before {content: \"\";position: absolute;border-left: 1px solid gray;box-sizing: border-box;top: 0;bottom: 0;left: 50%;z-index: 0;}#sk-container-id-1 div.sk-serial {display: flex;flex-direction: column;align-items: center;background-color: white;padding-right: 0.2em;padding-left: 0.2em;position: relative;}#sk-container-id-1 div.sk-item {position: relative;z-index: 1;}#sk-container-id-1 div.sk-parallel {display: flex;align-items: stretch;justify-content: center;background-color: white;position: relative;}#sk-container-id-1 div.sk-item::before, #sk-container-id-1 div.sk-parallel-item::before {content: \"\";position: absolute;border-left: 1px solid gray;box-sizing: border-box;top: 0;bottom: 0;left: 50%;z-index: -1;}#sk-container-id-1 div.sk-parallel-item {display: flex;flex-direction: column;z-index: 1;position: relative;background-color: white;}#sk-container-id-1 div.sk-parallel-item:first-child::after {align-self: flex-end;width: 50%;}#sk-container-id-1 div.sk-parallel-item:last-child::after {align-self: flex-start;width: 50%;}#sk-container-id-1 div.sk-parallel-item:only-child::after {width: 0;}#sk-container-id-1 div.sk-dashed-wrapped {border: 1px dashed gray;margin: 0 0.4em 0.5em 0.4em;box-sizing: border-box;padding-bottom: 0.4em;background-color: white;}#sk-container-id-1 div.sk-label label {font-family: monospace;font-weight: bold;display: inline-block;line-height: 1.2em;}#sk-container-id-1 div.sk-label-container {text-align: center;}#sk-container-id-1 div.sk-container {/* jupyter's `normalize.less` sets `[hidden] { display: none; }` but bootstrap.min.css set `[hidden] { display: none !important; }` so we also need the `!important` here to be able to override the default hidden behavior on the sphinx rendered scikit-learn.org. See: https://github.com/scikit-learn/scikit-learn/issues/21755 */display: inline-block !important;position: relative;}#sk-container-id-1 div.sk-text-repr-fallback {display: none;}</style><div id=\"sk-container-id-1\" class=\"sk-top-container\"><div class=\"sk-text-repr-fallback\"><pre>Ridge(alpha=100)</pre><b>In a Jupyter environment, please rerun this cell to show the HTML representation or trust the notebook. <br />On GitHub, the HTML representation is unable to render, please try loading this page with nbviewer.org.</b></div><div class=\"sk-container\" hidden><div class=\"sk-item\"><div class=\"sk-estimator sk-toggleable\"><input class=\"sk-toggleable__control sk-hidden--visually\" id=\"sk-estimator-id-1\" type=\"checkbox\" checked><label for=\"sk-estimator-id-1\" class=\"sk-toggleable__label sk-toggleable__label-arrow\">Ridge</label><div class=\"sk-toggleable__content\"><pre>Ridge(alpha=100)</pre></div></div></div></div></div>"
      ],
      "text/plain": [
       "Ridge(alpha=100)"
      ]
     },
     "execution_count": 7,
     "metadata": {},
     "output_type": "execute_result"
    }
   ],
   "source": [
    "model.fit(X_train,y_train)"
   ]
  },
  {
   "cell_type": "markdown",
   "id": "78c727fa",
   "metadata": {},
   "source": [
    "### Calculate the MSE and R2 for our *testing* data"
   ]
  },
  {
   "cell_type": "code",
   "execution_count": 8,
   "id": "4886630e",
   "metadata": {},
   "outputs": [
    {
     "data": {
      "text/plain": [
       "(0.8542559042772342, 0.917068435592929)"
      ]
     },
     "execution_count": 8,
     "metadata": {},
     "output_type": "execute_result"
    }
   ],
   "source": [
    "y_pred_test = model.predict(X_test)\n",
    "\n",
    "mse = mean_squared_error(y_test,y_pred_test)\n",
    "r2 = r2_score(y_test,y_pred_test)\n",
    "\n",
    "mse,r2"
   ]
  },
  {
   "cell_type": "markdown",
   "id": "57ac9ef9",
   "metadata": {},
   "source": [
    "### Now calculate MSE and R2 for our *validation* data"
   ]
  },
  {
   "cell_type": "code",
   "execution_count": 9,
   "id": "baa85be1",
   "metadata": {},
   "outputs": [
    {
     "data": {
      "text/plain": [
       "(0.689377319244279, 0.9345134497001697)"
      ]
     },
     "execution_count": 9,
     "metadata": {},
     "output_type": "execute_result"
    }
   ],
   "source": [
    "y_pred_val = model.predict(X_val)\n",
    "mse_val = mean_squared_error(y_val,y_pred_val)\n",
    "r2_val = r2_score(y_val,y_pred_val)\n",
    "\n",
    "mse_val,r2_val"
   ]
  },
  {
   "cell_type": "markdown",
   "id": "89cb1fdf",
   "metadata": {},
   "source": [
    "# With R^2 values of 0.917 and 0.934 respectively, both our *testing* and *validation* models are very strong predictors of grades.\n",
    "### This tells us that our regression analysis was a success, and that we can account for between 91% and 94% of a student's grade by looking at variation in other relevant variables collectively.\n",
    "\n",
    "# Also, the Mean Squared Error of around 0.69 to 0.85 is fairly good.\n",
    "## Each grade is out of 20.0, so the MSE is less than 4% of the total grade. This is very good in context, and it means that a student's grade can be predicted almost perfectly."
   ]
  },
  {
   "cell_type": "code",
   "execution_count": 25,
   "id": "3c7be247",
   "metadata": {},
   "outputs": [
    {
     "data": {
      "image/png": "[encoded data removed]",
      "text/plain": [
       "<Figure size 640x480 with 1 Axes>"
      ]
     },
     "metadata": {},
     "output_type": "display_data"
    }
   ],
   "source": [
    "#plt.scatter(data[\"G2\"],data[\"G3\"],alpha=0.1) # Make mostly transparent so overlaying values will become more clear\n",
    "\n",
    "#plt.xlabel(\"G2 (Last year's grade)\")\n",
    "#plt.ylabel(\"G3 (This year's grade)\")\n",
    "#plt.title(\"Comparing past grades to present grades\")\n",
    "\n",
    "#plt.show()\n",
    "\n",
    "def colorize(act,pred):\n",
    "    diff = abs(act-pred)\n",
    "    if diff>1:\n",
    "        return \"#ff5500\"\n",
    "    elif diff > 0.67:\n",
    "        return \"#ffff00\"\n",
    "    elif diff > 0.33:\n",
    "        return \"#bbff00\"\n",
    "    else:\n",
    "        return \"#00ff00\"\n",
    "\n",
    "colors = [colorize(act,pred) for (act,pred) in zip(y_val,y_pred_val)]\n",
    "\n",
    "plt.scatter(y_val,y_pred_val,alpha=.5,color=colors) # Make mostly transparent so overlaying values will become more clear\n",
    "\n",
    "plt.xlabel(\"Student's Actual Grade\")\n",
    "plt.ylabel(\"Model's Predicted Grade\")\n",
    "plt.title(\"Comparing Predicted Grade to Actual Grade\")\n",
    "\n",
    "plt.show()"
   ]
  },
  {
   "cell_type": "markdown",
   "id": "0a7d3c16",
   "metadata": {},
   "source": [
    "# The above scatterplot shows the relationship between last year's grade \"G2\" and this year's grade \"G3\". As we can see, G2 alone is a fairly good predictor of G3, which is our target variable in this lab."
   ]
  },
  {
   "cell_type": "markdown",
   "id": "b3316212",
   "metadata": {},
   "source": [
    "# The overall takeaway is that there are many factors that can impact a student's educational success, so future attempts to help students succeed should involve addressing each of these statistics hollistically."
   ]
  },
  {
   "cell_type": "code",
   "execution_count": null,
   "id": "a89b18e5",
   "metadata": {},
   "outputs": [],
   "source": []
  }
 ],
 "metadata": {
  "kernelspec": {
   "display_name": "Python 3 (ipykernel)",
   "language": "python",
   "name": "python3"
  },
  "language_info": {
   "codemirror_mode": {
    "name": "ipython",
    "version": 3
   },
   "file_extension": ".py",
   "mimetype": "text/x-python",
   "name": "python",
   "nbconvert_exporter": "python",
   "pygments_lexer": "ipython3",
   "version": "3.11.3"
  }
 },
 "nbformat": 4,
 "nbformat_minor": 5
}
