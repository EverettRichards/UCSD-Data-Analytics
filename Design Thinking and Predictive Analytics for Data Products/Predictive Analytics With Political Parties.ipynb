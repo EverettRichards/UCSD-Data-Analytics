{
 "cells": [
  {
   "cell_type": "markdown",
   "id": "c41b032f",
   "metadata": {},
   "source": [
    "# *Predicting Politicians' Parties by Processing Political Preferences*\n",
    "\n",
    "## *This Notebook examines each member of Congress in 1984 and considers how they voted on each of 16 key bills presented throughout the year.*\n",
    "## *The dataset includes a list of the individual's party, followed by a \"y\" for \"yes\" or \"n\" for \"no\" corresponding to each of 16 bills.*\n",
    "### *This data was provided by the Congressional Quarterly Almanac of the 98th Congress. There were 267 Democrats and 168 Republicans in the House of Representatives at this time.*\n",
    "\n",
    "\n",
    "."
   ]
  },
  {
   "cell_type": "markdown",
   "id": "84530366",
   "metadata": {},
   "source": [
    "## Import all needed libraries"
   ]
  },
  {
   "cell_type": "code",
   "execution_count": 1,
   "id": "58a123bf",
   "metadata": {},
   "outputs": [],
   "source": [
    "import pandas as pd\n",
    "from sklearn.model_selection import train_test_split\n",
    "from sklearn.linear_model import LogisticRegression as LogReg\n",
    "from sklearn.metrics import accuracy_score\n",
    "import matplotlib.pyplot as plt\n",
    "import numpy as np"
   ]
  },
  {
   "cell_type": "markdown",
   "id": "398e49d4",
   "metadata": {},
   "source": [
    "\n",
    "\n",
    "\n",
    "## Begin by opening the file and loading the CSV into a Python dictionary.\n",
    "### In each of the 16 bills (dimensions), we assume \"y\" = 1, \"n\" = 0, and \"?\" = 0.\n",
    "The \"?\" means that the individual did not vote \"yes\" or \"no\" on the bill, i.e. they abstained or voted \"present\". We will consider a \"?\" to be the same as a \"N\" since the member did not actively vote in favor of the bill."
   ]
  },
  {
   "cell_type": "code",
   "execution_count": 2,
   "id": "5f4e96ee",
   "metadata": {},
   "outputs": [],
   "source": [
    "f = open(\"Documents/datasets/1984congress/house-votes-84.data\")"
   ]
  },
  {
   "cell_type": "code",
   "execution_count": 3,
   "id": "6d5cf3e4",
   "metadata": {},
   "outputs": [],
   "source": [
    "dataset = []\n",
    "for l in f:\n",
    "    l = l.split(',')\n",
    "    party = l[0]=='democrat' and 1 or 0 # Democrats are 1, Republicans are 0\n",
    "    values = [party]\n",
    "    count=0\n",
    "    for i in l:\n",
    "        count+=1\n",
    "        if count>1:\n",
    "            values.append(i==\"y\" and 1 or 0) # assumes unknown = vote against\n",
    "    dataset.append(values)"
   ]
  },
  {
   "cell_type": "markdown",
   "id": "d128f8a2",
   "metadata": {},
   "source": [
    "## Open the CSV data using the \"pandas\" library as well.\n",
    "This will allow us to have two different types of arrays that both gives us different options later on."
   ]
  },
  {
   "cell_type": "code",
   "execution_count": 4,
   "id": "dc7f612c",
   "metadata": {},
   "outputs": [],
   "source": [
    "data = pd.read_csv(\"Documents/datasets/1984congress/house-votes-84.data\",header=None)\n",
    "\n",
    "X = data.iloc[:,1:]\n",
    "y = data.iloc[:,0]\n",
    "\n",
    "X = X.replace({'y':1,'n':0,'?':0}) # Make the code quantitative and binary\n",
    "y = y.map({'republican':0,'democrat':1}) # Again, make the code quantitative so it can be mathematically modeled"
   ]
  },
  {
   "cell_type": "markdown",
   "id": "d5192cf7",
   "metadata": {},
   "source": [
    "## Create a new, blank regression model"
   ]
  },
  {
   "cell_type": "code",
   "execution_count": 5,
   "id": "d7b476a9",
   "metadata": {},
   "outputs": [],
   "source": [
    "model = LogReg()"
   ]
  },
  {
   "cell_type": "markdown",
   "id": "7d49d555",
   "metadata": {},
   "source": [
    "## Define testing / training lists for regression analysis. We will be predicting each Member's POLITICAL PARTY based on how that Member voted on each bill.\n",
    "\n",
    "## This is a form of CLASSIFICATION, because we are putting individuals into a binary category (Democrat or Republican) based on 16 dimensions of input data"
   ]
  },
  {
   "cell_type": "code",
   "execution_count": 6,
   "id": "065aba9f",
   "metadata": {},
   "outputs": [],
   "source": [
    "X_train, X_test, y_train, y_test = train_test_split(X,y,test_size=0.2, random_state=69)"
   ]
  },
  {
   "cell_type": "markdown",
   "id": "39f9aab7",
   "metadata": {},
   "source": [
    "## Set up the regression model using the delegated training data, which includes 80% of all values in the dataset, selected at random (there are 435 total values)"
   ]
  },
  {
   "cell_type": "code",
   "execution_count": 7,
   "id": "a5a6cc0d",
   "metadata": {},
   "outputs": [
    {
     "data": {
      "text/html": [
       "<style>#sk-container-id-1 {color: black;background-color: white;}#sk-container-id-1 pre{padding: 0;}#sk-container-id-1 div.sk-toggleable {background-color: white;}#sk-container-id-1 label.sk-toggleable__label {cursor: pointer;display: block;width: 100%;margin-bottom: 0;padding: 0.3em;box-sizing: border-box;text-align: center;}#sk-container-id-1 label.sk-toggleable__label-arrow:before {content: \"▸\";float: left;margin-right: 0.25em;color: #696969;}#sk-container-id-1 label.sk-toggleable__label-arrow:hover:before {color: black;}#sk-container-id-1 div.sk-estimator:hover label.sk-toggleable__label-arrow:before {color: black;}#sk-container-id-1 div.sk-toggleable__content {max-height: 0;max-width: 0;overflow: hidden;text-align: left;background-color: #f0f8ff;}#sk-container-id-1 div.sk-toggleable__content pre {margin: 0.2em;color: black;border-radius: 0.25em;background-color: #f0f8ff;}#sk-container-id-1 input.sk-toggleable__control:checked~div.sk-toggleable__content {max-height: 200px;max-width: 100%;overflow: auto;}#sk-container-id-1 input.sk-toggleable__control:checked~label.sk-toggleable__label-arrow:before {content: \"▾\";}#sk-container-id-1 div.sk-estimator input.sk-toggleable__control:checked~label.sk-toggleable__label {background-color: #d4ebff;}#sk-container-id-1 div.sk-label input.sk-toggleable__control:checked~label.sk-toggleable__label {background-color: #d4ebff;}#sk-container-id-1 input.sk-hidden--visually {border: 0;clip: rect(1px 1px 1px 1px);clip: rect(1px, 1px, 1px, 1px);height: 1px;margin: -1px;overflow: hidden;padding: 0;position: absolute;width: 1px;}#sk-container-id-1 div.sk-estimator {font-family: monospace;background-color: #f0f8ff;border: 1px dotted black;border-radius: 0.25em;box-sizing: border-box;margin-bottom: 0.5em;}#sk-container-id-1 div.sk-estimator:hover {background-color: #d4ebff;}#sk-container-id-1 div.sk-parallel-item::after {content: \"\";width: 100%;border-bottom: 1px solid gray;flex-grow: 1;}#sk-container-id-1 div.sk-label:hover label.sk-toggleable__label {background-color: #d4ebff;}#sk-container-id-1 div.sk-serial::before {content: \"\";position: absolute;border-left: 1px solid gray;box-sizing: border-box;top: 0;bottom: 0;left: 50%;z-index: 0;}#sk-container-id-1 div.sk-serial {display: flex;flex-direction: column;align-items: center;background-color: white;padding-right: 0.2em;padding-left: 0.2em;position: relative;}#sk-container-id-1 div.sk-item {position: relative;z-index: 1;}#sk-container-id-1 div.sk-parallel {display: flex;align-items: stretch;justify-content: center;background-color: white;position: relative;}#sk-container-id-1 div.sk-item::before, #sk-container-id-1 div.sk-parallel-item::before {content: \"\";position: absolute;border-left: 1px solid gray;box-sizing: border-box;top: 0;bottom: 0;left: 50%;z-index: -1;}#sk-container-id-1 div.sk-parallel-item {display: flex;flex-direction: column;z-index: 1;position: relative;background-color: white;}#sk-container-id-1 div.sk-parallel-item:first-child::after {align-self: flex-end;width: 50%;}#sk-container-id-1 div.sk-parallel-item:last-child::after {align-self: flex-start;width: 50%;}#sk-container-id-1 div.sk-parallel-item:only-child::after {width: 0;}#sk-container-id-1 div.sk-dashed-wrapped {border: 1px dashed gray;margin: 0 0.4em 0.5em 0.4em;box-sizing: border-box;padding-bottom: 0.4em;background-color: white;}#sk-container-id-1 div.sk-label label {font-family: monospace;font-weight: bold;display: inline-block;line-height: 1.2em;}#sk-container-id-1 div.sk-label-container {text-align: center;}#sk-container-id-1 div.sk-container {/* jupyter's `normalize.less` sets `[hidden] { display: none; }` but bootstrap.min.css set `[hidden] { display: none !important; }` so we also need the `!important` here to be able to override the default hidden behavior on the sphinx rendered scikit-learn.org. See: https://github.com/scikit-learn/scikit-learn/issues/21755 */display: inline-block !important;position: relative;}#sk-container-id-1 div.sk-text-repr-fallback {display: none;}</style><div id=\"sk-container-id-1\" class=\"sk-top-container\"><div class=\"sk-text-repr-fallback\"><pre>LogisticRegression()</pre><b>In a Jupyter environment, please rerun this cell to show the HTML representation or trust the notebook. <br />On GitHub, the HTML representation is unable to render, please try loading this page with nbviewer.org.</b></div><div class=\"sk-container\" hidden><div class=\"sk-item\"><div class=\"sk-estimator sk-toggleable\"><input class=\"sk-toggleable__control sk-hidden--visually\" id=\"sk-estimator-id-1\" type=\"checkbox\" checked><label for=\"sk-estimator-id-1\" class=\"sk-toggleable__label sk-toggleable__label-arrow\">LogisticRegression</label><div class=\"sk-toggleable__content\"><pre>LogisticRegression()</pre></div></div></div></div></div>"
      ],
      "text/plain": [
       "LogisticRegression()"
      ]
     },
     "execution_count": 7,
     "metadata": {},
     "output_type": "execute_result"
    }
   ],
   "source": [
    "model.fit(X_train,y_train)"
   ]
  },
  {
   "cell_type": "markdown",
   "id": "39a8605b",
   "metadata": {},
   "source": [
    "## Run a test on the remaining 20% of data using the regression model"
   ]
  },
  {
   "cell_type": "code",
   "execution_count": 8,
   "id": "aec17fc3",
   "metadata": {},
   "outputs": [],
   "source": [
    "y_pred = model.predict(X_test)"
   ]
  },
  {
   "cell_type": "markdown",
   "id": "78c727fa",
   "metadata": {},
   "source": [
    "### Calculate the accuracy of our regression model on our testing data"
   ]
  },
  {
   "cell_type": "code",
   "execution_count": 9,
   "id": "4886630e",
   "metadata": {},
   "outputs": [],
   "source": [
    "accuracy = accuracy_score(y_test,y_pred)"
   ]
  },
  {
   "cell_type": "markdown",
   "id": "57ac9ef9",
   "metadata": {},
   "source": [
    "## The accuracy of our model is 98.85%. This means that out of 87 members of Congress in our testing data, only 1 had their political party predicted wrong.\n",
    "### Note that this number could vary depending on the random_state value defined earlier, which determines which Members are in the testing or training group."
   ]
  },
  {
   "cell_type": "code",
   "execution_count": 10,
   "id": "4e7c548c",
   "metadata": {},
   "outputs": [
    {
     "data": {
      "text/plain": [
       "0.9885057471264368"
      ]
     },
     "execution_count": 10,
     "metadata": {},
     "output_type": "execute_result"
    }
   ],
   "source": [
    "accuracy"
   ]
  },
  {
   "cell_type": "markdown",
   "id": "55cca774",
   "metadata": {},
   "source": [
    "# The code below will give us a visual of the distribution of votes by party and bill.\n",
    "\n",
    "### We simply find the total number of Democrats/Republicans who voted \"Yes\" or \"No\" on each bill, then graph the results. Note that I weighted the graphic such that the Democrats and Republicans take up an equal amount of space, since there were significantly more Democrats than Republicans in the House at the time."
   ]
  },
  {
   "cell_type": "code",
   "execution_count": 11,
   "id": "efc17ccd",
   "metadata": {
    "scrolled": true
   },
   "outputs": [
    {
     "data": {
      "image/png": "[encoded data removed]",
      "text/plain": [
       "<Figure size 640x480 with 1 Axes>"
      ]
     },
     "metadata": {},
     "output_type": "display_data"
    }
   ],
   "source": [
    "headings = []\n",
    "\n",
    "for i in range(16):\n",
    "    n = i + 1\n",
    "    headings.append(\"#\"+str(i+1))\n",
    "\n",
    "demTotal = sum(d[0] for d in dataset)\n",
    "repTotal = 435 - demTotal\n",
    "\n",
    "weightsD1 = []\n",
    "for n in range(16):\n",
    "    weightsD1.append(sum(d[n+1] for d in dataset if d[0]==1))\n",
    "    \n",
    "weightsDem = []\n",
    "for sub in weightsD1:\n",
    "    weightsDem.append(sub)\n",
    "    weightsDem.append(demTotal-sub)\n",
    "weightsDem = np.array(weightsDem)\n",
    "    \n",
    "weightsR1 = []\n",
    "for n in range(16):\n",
    "    weightsR1.append(sum(d[n+1] for d in dataset if d[0]==0))\n",
    "    \n",
    "weightsRep = []\n",
    "for sub in weightsR1:\n",
    "    weightsRep.append(sub)\n",
    "    weightsRep.append(repTotal-sub)\n",
    "weightsRep = np.array(weightsRep)\n",
    "\n",
    "weight_counts = {\n",
    "    \"Democrat NO\": [1 -sum(d[n] / demTotal for d in dataset if d[0]==1) for n in range(1,17)],\n",
    "    \"Democrat YES\": [sum(d[n] / demTotal for d in dataset if d[0]==1) for n in range(1,17)],\n",
    "    \"Republican YES\": [sum(d[n] / repTotal for d in dataset if d[0]==0) for n in range(1,17)],\n",
    "    \"Republican NO\": [1 -sum(d[n] / repTotal for d in dataset if d[0]==0) for n in range(1,17)],\n",
    "}\n",
    "width = 0.8\n",
    "\n",
    "fig, ax = plt.subplots()\n",
    "bottom = np.zeros(16)\n",
    "\n",
    "colorIndex = 0\n",
    "colors = [\"#9999ff\",\"#0000ff\",\"#ff0000\",\"#ff9999\"]\n",
    "\n",
    "for boolean, weight_count in weight_counts.items():\n",
    "    p = ax.bar(headings, weight_count, width, label=boolean, bottom=bottom,color=colors[colorIndex])\n",
    "    bottom += weight_count\n",
    "    colorIndex += 1\n",
    "\n",
    "ax.set_title(\"Distribution of votes by bill\")\n",
    "ax.legend(loc=\"best\")\n",
    "\n",
    "plt.show()"
   ]
  },
  {
   "cell_type": "markdown",
   "id": "b8c78f1c",
   "metadata": {},
   "source": [
    "# Enjoy the graphic!\n",
    "### This graphic shows how much support each bill got from each party.\n",
    "### Solid colors indicate \"Yes\" votes, and faded colors indicate \"No\" / abstain votes.\n",
    "### The illusion of a dark \"bar\" near the middle of each column indicates which party typically supported that bill. A bar that is mostly below the middle indicates strong Democrat support, while a bar mostly above the middle indicates strong Republican support."
   ]
  },
  {
   "cell_type": "markdown",
   "id": "a96560ca",
   "metadata": {},
   "source": [
    "# OVERALL FINDINGS\n",
    "\n",
    "### In this project, the main takeaway is that a probabilistic model can almost perfectly predict an congressmember's party alignment just by knowing how they voted on various bills.\n",
    "### This demonstrates that political ideology has a strong impact in the decisions that lawmakers make on a regular basis."
   ]
  },
  {
   "cell_type": "code",
   "execution_count": null,
   "id": "3f039eff",
   "metadata": {},
   "outputs": [],
   "source": []
  }
 ],
 "metadata": {
  "kernelspec": {
   "display_name": "Python 3 (ipykernel)",
   "language": "python",
   "name": "python3"
  },
  "language_info": {
   "codemirror_mode": {
    "name": "ipython",
    "version": 3
   },
   "file_extension": ".py",
   "mimetype": "text/x-python",
   "name": "python",
   "nbconvert_exporter": "python",
   "pygments_lexer": "ipython3",
   "version": "3.11.3"
  }
 },
 "nbformat": 4,
 "nbformat_minor": 5
}
